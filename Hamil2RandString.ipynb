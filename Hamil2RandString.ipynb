{
 "cells": [
  {
   "cell_type": "code",
   "execution_count": 54,
   "metadata": {},
   "outputs": [
    {
     "name": "stdout",
     "output_type": "stream",
     "text": [
      "[{'String': 'X', 'Amplitude': 0.5, 'Sign': 0}, {'String': 'Z', 'Amplitude': 1, 'Sign': 0}]\n",
      "Probability:\n",
      "[0.3333333333333333, 0.6666666666666666]\n"
     ]
    }
   ],
   "source": [
    "from numpy import pi\n",
    "from scipy.optimize import minimize\n",
    "\n",
    "from DIPModule import *\n",
    "\n",
    "x0 = [0,0,0]; # init parameters\n",
    "N = 1; # number of qubits\n",
    "\n",
    "# init Hamiltonian\n",
    "H = [];\n",
    "\n",
    "# -0.5 X_i - Z_i - 2 X_i X_i+1 - 2 Z_i Z_i+1\n",
    "# 'Sign' = 0 for negative, 1 for positive\n",
    "for i in range(N):\n",
    "    H.append(\n",
    "        {'String':'I'*i+'X'+'I'*(N-i-1),'Amplitude':.5,'Sign':0}\n",
    "    );\n",
    "    H.append(\n",
    "        {'String':'I'*i+'Z'+'I'*(N-i-1),'Amplitude':1,'Sign':0}\n",
    "    );\n",
    "for j in range(N-1):\n",
    "    H.append(\n",
    "        {'String':'I'*j+'XX'+'I'*(N-j-2),'Amplitude':2,'Sign':0}\n",
    "    );\n",
    "    H.append(\n",
    "        {'String':'I'*j+'ZZ'+'I'*(N-j-2),'Amplitude':2,'Sign':0}\n",
    "    );\n",
    "\n",
    "# Prepare for random generation\n",
    "Prob = [abs(Hi['Amplitude']) for Hi in H];\n",
    "Prob = [x/sum(Prob) for x in Prob];\n",
    "# Test\n",
    "print(H)\n",
    "print('Probability:')\n",
    "print(Prob)"
   ]
  },
  {
   "cell_type": "markdown",
   "metadata": {},
   "source": [
    "# Minimization"
   ]
  },
  {
   "cell_type": "code",
   "execution_count": 55,
   "metadata": {},
   "outputs": [
    {
     "name": "stdout",
     "output_type": "stream",
     "text": [
      "Optimization terminated successfully.\n",
      "         Current function value: -0.876010\n",
      "         Iterations: 2\n",
      "         Function evaluations: 86\n"
     ]
    },
    {
     "data": {
      "text/plain": [
       "   direc: array([[1., 0., 0.],\n",
       "       [0., 1., 0.],\n",
       "       [0., 0., 1.]])\n",
       "     fun: -0.8760099007772096\n",
       " message: 'Optimization terminated successfully.'\n",
       "    nfev: 86\n",
       "     nit: 2\n",
       "  status: 0\n",
       " success: True\n",
       "       x: array([-1.16751096,  2.71045308,  0.16906383])"
      ]
     },
     "execution_count": 55,
     "metadata": {},
     "output_type": "execute_result"
    }
   ],
   "source": [
    "# res = minimize(DIP,[0,0,0],(N,H,2000),method='nelder-mead',options={'xtol': 1e-3,'fatol': 1e-2, 'disp': True});\n",
    "res = minimize(DIP,[0, 0, 0],(N,H,Prob,2000),method='Powell',options={'xtol': 1e-4,'ftol': 1e-4, 'disp': True});\n",
    "res"
   ]
  },
  {
   "cell_type": "code",
   "execution_count": 58,
   "metadata": {},
   "outputs": [],
   "source": [
    "RealHamiltonian = sigmax()*H[0]['Amplitude'] + sigmaz()*H[1]['Amplitude']; # Matrix of Hamiltonian\n",
    "RealState = (sigmax()+1)*Prob[0]/2 + (sigmaz()+1)*Prob[1]/2;\n",
    "\n",
    "EigenS = RealHamiltonian.eigenstates();\n",
    "\n",
    "trainedU = gate_sequence_product(VCirc(res['x'],1).propagators());\n",
    "DiagonizedHamiltonian = trainedU*RealHamiltonian*trainedU.dag();\n",
    "DiagonizedState = trainedU*RealState*trainedU.dag();\n",
    "\n",
    "InversU = gate_sequence_product(InvVCirc(res['x'],1).propagators());\n",
    "ApproxVec = InversU*StringPre([0],N)"
   ]
  },
  {
   "cell_type": "code",
   "execution_count": 59,
   "metadata": {},
   "outputs": [
    {
     "name": "stdout",
     "output_type": "stream",
     "text": [
      "Eigenvalues of the Hamiltonian is:\n",
      "[-1.11803399  1.11803399]\n",
      "\n",
      "EigenStates of the Hamiltonian is:\n",
      "[Quantum object: dims = [[2], [1]], shape = (2, 1), type = ket\n",
      "Qobj data =\n",
      "[[ 0.22975292]\n",
      " [-0.97324899]]\n",
      " Quantum object: dims = [[2], [1]], shape = (2, 1), type = ket\n",
      "Qobj data =\n",
      "[[-0.97324899]\n",
      " [-0.22975292]]]\n",
      "\n",
      "\n",
      "Diagonalized Hamiltonian is:\n",
      "Quantum object: dims = [[2], [2]], shape = (2, 2), type = oper, isherm = True\n",
      "Qobj data =\n",
      "[[-1.11800374+0.j          0.00822351+0.00010238j]\n",
      " [ 0.00822351-0.00010238j  1.11800374+0.j        ]]\n",
      "\n",
      "Approximated vector is:\n",
      "Quantum object: dims = [[2], [1]], shape = (2, 1), type = ket\n",
      "Qobj data =\n",
      "[[ 0.13238578-0.18629346j]\n",
      " [-0.5515515 +0.80222173j]]\n",
      "\n",
      "\n",
      "The precision of the approximated ground energy is:\n",
      "99.99752195153035 %\n",
      "\n",
      "The fidelity of the approximated ground state is:\n",
      "99.99932362211112 %\n"
     ]
    }
   ],
   "source": [
    "print('Eigenvalues of the Hamiltonian is:')\n",
    "print(EigenS[0])\n",
    "print('\\nEigenStates of the Hamiltonian is:')\n",
    "print(EigenS[1])\n",
    "print('\\n\\nDiagonalized Hamiltonian is:')\n",
    "print(DiagonizedHamiltonian)\n",
    "# print('\\n\\nDiagonalized State is:')\n",
    "# print(DiagonizedState)\n",
    "print('\\nApproximated vector is:')\n",
    "print(ApproxVec)\n",
    "\n",
    "print('\\n\\nThe precision of the approximated ground energy is:')\n",
    "print((1-np.abs(EigenS[0][0]-DiagonizedHamiltonian[0][0][0])/np.abs(EigenV[0]))*100,'%')\n",
    "\n",
    "print('\\nThe fidelity of the approximated ground state is:')\n",
    "print((ApproxVec.dag()*EigenS[1][0]).norm()*100,'%')"
   ]
  }
 ],
 "metadata": {
  "@webio": {
   "lastCommId": null,
   "lastKernelId": null
  },
  "kernelspec": {
   "display_name": "Python (QuTiP)",
   "language": "python",
   "name": "qutip"
  },
  "language_info": {
   "codemirror_mode": {
    "name": "ipython",
    "version": 3
   },
   "file_extension": ".py",
   "mimetype": "text/x-python",
   "name": "python",
   "nbconvert_exporter": "python",
   "pygments_lexer": "ipython3",
   "version": "3.6.2"
  }
 },
 "nbformat": 4,
 "nbformat_minor": 2
}
